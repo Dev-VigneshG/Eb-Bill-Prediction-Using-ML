{
  "nbformat": 4,
  "nbformat_minor": 0,
  "metadata": {
    "colab": {
      "provenance": []
    },
    "kernelspec": {
      "name": "python3",
      "display_name": "Python 3"
    },
    "language_info": {
      "name": "python"
    }
  },
  "cells": [
    {
      "cell_type": "code",
      "source": [
        "import pandas as pd\n",
        "from sklearn.model_selection import train_test_split\n",
        "from sklearn.preprocessing import StandardScaler\n",
        "from sklearn.linear_model import LinearRegression\n",
        "from sklearn.metrics import mean_squared_error\n",
        "df = pd.read_csv('bill.csv')\n",
        "df = df.dropna()\n",
        "x = df[['num_rooms', 'num_people', 'housearea', 'is_ac', 'is_tv', 'is_flat', 'ave_monthly_income', 'num_children', 'is_urban']]\n",
        "y = df['amount_paid']\n",
        "x_train, x_test, y_train, y_test = train_test_split(x, y, test_size=0.2, random_state=42)\n",
        "scaler = StandardScaler()\n",
        "x_train_s = scaler.fit_transform(x_train)\n",
        "x_test_s = scaler.transform(x_test)\n",
        "model = LinearRegression()\n",
        "model.fit(x_train_s, y_train)\n",
        "y_pred = model.predict(x_test_s)\n",
        "print(f\"Mean Squared Error: {mean_squared_error(y_test, y_pred):.2f}\")\n",
        "while True:\n",
        "    input_data = pd.DataFrame([[\n",
        "        float(input(\"Enter number of rooms: \")),\n",
        "        float(input(\"Enter number of people: \")),\n",
        "        float(input(\"Enter house area: \")),\n",
        "        int(input(\"Enter if AC is present (1 for Yes, 0 for No): \")),\n",
        "        int(input(\"Enter if TV is present (1 for Yes, 0 for No): \")),\n",
        "        int(input(\"Enter if flat (1 for Yes, 0 for No): \")),\n",
        "        float(input(\"Enter average monthly income: \")),\n",
        "        int(input(\"Enter number of children: \")),\n",
        "        int(input(\"Enter if urban (1 for Yes, 0 for No): \"))\n",
        "    ]], columns=['num_rooms', 'num_people', 'housearea', 'is_ac', 'is_tv', 'is_flat', 'ave_monthly_income', 'num_children', 'is_urban'])\n",
        "    input_data_s = scaler.transform(input_data)\n",
        "    pred = model.predict(input_data_s)\n",
        "    print(f\"Predicted Amount Paid: {pred[0]:.2f}\")\n",
        "    con=int(input(\"Do You Want to Continue 1.CONTINUE Other wise exit\"))\n",
        "    if(con==1):\n",
        "        continue\n",
        "    else:\n",
        "        break\n"
      ],
      "metadata": {
        "colab": {
          "base_uri": "https://localhost:8080/"
        },
        "id": "DPIC2kv7G4cI",
        "outputId": "950113c4-441d-426c-cc4c-5201c1816d23"
      },
      "execution_count": null,
      "outputs": [
        {
          "name": "stdout",
          "output_type": "stream",
          "text": [
            "Mean Squared Error: 3958.63\n",
            "Enter number of rooms: 2\n",
            "Enter number of people: 4\n",
            "Enter house area: 8000\n",
            "Enter if AC is present (1 for Yes, 0 for No): 1\n",
            "Enter if TV is present (1 for Yes, 0 for No): 1\n",
            "Enter if flat (1 for Yes, 0 for No): 1\n",
            "Enter average monthly income: 100000\n",
            "Enter number of children: 2\n",
            "Enter if urban (1 for Yes, 0 for No): 1\n",
            "Predicted Amount Paid: 1369.07\n",
            "Do You Want to Continue 1.CONTINUE Other wise exit9\n"
          ]
        }
      ]
    }
  ]
}